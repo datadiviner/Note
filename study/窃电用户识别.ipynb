{
 "cells": [
  {
   "cell_type": "code",
   "execution_count": 2,
   "metadata": {
    "collapsed": false
   },
   "outputs": [
    {
     "name": "stderr",
     "output_type": "stream",
     "text": [
      "Using TensorFlow backend.\n"
     ]
    },
    {
     "name": "stdout",
     "output_type": "stream",
     "text": [
      "Epoch 1/100\n",
      "232/232 [==============================] - 1s 3ms/step - loss: 0.7142\n",
      "Epoch 2/100\n",
      "232/232 [==============================] - 0s 1ms/step - loss: 0.6524\n",
      "Epoch 3/100\n",
      "232/232 [==============================] - 0s 1ms/step - loss: 0.6130\n",
      "Epoch 4/100\n",
      "232/232 [==============================] - 0s 1ms/step - loss: 0.5782\n",
      "Epoch 5/100\n",
      "232/232 [==============================] - 0s 1ms/step - loss: 0.5521\n",
      "Epoch 6/100\n",
      "232/232 [==============================] - 0s 1ms/step - loss: 0.5312\n",
      "Epoch 7/100\n",
      "232/232 [==============================] - 0s 1ms/step - loss: 0.5111\n",
      "Epoch 8/100\n",
      "232/232 [==============================] - 0s 1ms/step - loss: 0.4945\n",
      "Epoch 9/100\n",
      "232/232 [==============================] - 0s 1ms/step - loss: 0.4784\n",
      "Epoch 10/100\n",
      "232/232 [==============================] - 0s 1ms/step - loss: 0.4609\n",
      "Epoch 11/100\n",
      "232/232 [==============================] - 0s 1ms/step - loss: 0.4461\n",
      "Epoch 12/100\n",
      "232/232 [==============================] - 0s 1ms/step - loss: 0.4344\n",
      "Epoch 13/100\n",
      "232/232 [==============================] - 0s 1ms/step - loss: 0.4219\n",
      "Epoch 14/100\n",
      "232/232 [==============================] - 0s 1ms/step - loss: 0.4116\n",
      "Epoch 15/100\n",
      "232/232 [==============================] - 0s 1ms/step - loss: 0.4026\n",
      "Epoch 16/100\n",
      "232/232 [==============================] - 0s 1ms/step - loss: 0.3938\n",
      "Epoch 17/100\n",
      "232/232 [==============================] - 0s 1ms/step - loss: 0.3854\n",
      "Epoch 18/100\n",
      "232/232 [==============================] - 0s 1ms/step - loss: 0.3773\n",
      "Epoch 19/100\n",
      "232/232 [==============================] - 0s 1ms/step - loss: 0.3711\n",
      "Epoch 20/100\n",
      "232/232 [==============================] - 0s 1ms/step - loss: 0.3646\n",
      "Epoch 21/100\n",
      "232/232 [==============================] - 0s 1ms/step - loss: 0.3591\n",
      "Epoch 22/100\n",
      "232/232 [==============================] - 0s 1ms/step - loss: 0.3529\n",
      "Epoch 23/100\n",
      "232/232 [==============================] - 0s 1ms/step - loss: 0.3484\n",
      "Epoch 24/100\n",
      "232/232 [==============================] - 0s 1ms/step - loss: 0.3438\n",
      "Epoch 25/100\n",
      "232/232 [==============================] - 0s 1ms/step - loss: 0.3373\n",
      "Epoch 26/100\n",
      "232/232 [==============================] - 0s 1ms/step - loss: 0.3345\n",
      "Epoch 27/100\n",
      "232/232 [==============================] - 0s 1ms/step - loss: 0.3300\n",
      "Epoch 28/100\n",
      "232/232 [==============================] - 0s 1ms/step - loss: 0.3245\n",
      "Epoch 29/100\n",
      "232/232 [==============================] - 0s 1ms/step - loss: 0.3182\n",
      "Epoch 30/100\n",
      "232/232 [==============================] - 0s 1ms/step - loss: 0.3155\n",
      "Epoch 31/100\n",
      "232/232 [==============================] - 0s 1ms/step - loss: 0.3124\n",
      "Epoch 32/100\n",
      "232/232 [==============================] - 0s 1ms/step - loss: 0.3091\n",
      "Epoch 33/100\n",
      "232/232 [==============================] - 0s 1ms/step - loss: 0.3052\n",
      "Epoch 34/100\n",
      "232/232 [==============================] - 0s 1ms/step - loss: 0.3015\n",
      "Epoch 35/100\n",
      "232/232 [==============================] - 0s 1ms/step - loss: 0.2999\n",
      "Epoch 36/100\n",
      "232/232 [==============================] - 0s 1ms/step - loss: 0.2970\n",
      "Epoch 37/100\n",
      "232/232 [==============================] - 0s 1ms/step - loss: 0.2947\n",
      "Epoch 38/100\n",
      "232/232 [==============================] - 0s 1ms/step - loss: 0.2919\n",
      "Epoch 39/100\n",
      "232/232 [==============================] - 0s 1ms/step - loss: 0.2909\n",
      "Epoch 40/100\n",
      "232/232 [==============================] - 0s 1ms/step - loss: 0.2880\n",
      "Epoch 41/100\n",
      "232/232 [==============================] - 0s 1ms/step - loss: 0.2860\n",
      "Epoch 42/100\n",
      "232/232 [==============================] - 0s 1ms/step - loss: 0.2828\n",
      "Epoch 43/100\n",
      "232/232 [==============================] - 0s 1ms/step - loss: 0.2812\n",
      "Epoch 44/100\n",
      "232/232 [==============================] - 0s 1ms/step - loss: 0.2796\n",
      "Epoch 45/100\n",
      "232/232 [==============================] - 0s 1ms/step - loss: 0.2764\n",
      "Epoch 46/100\n",
      "232/232 [==============================] - 0s 1ms/step - loss: 0.2746\n",
      "Epoch 47/100\n",
      "232/232 [==============================] - 0s 1ms/step - loss: 0.2735\n",
      "Epoch 48/100\n",
      "232/232 [==============================] - 0s 1ms/step - loss: 0.2722\n",
      "Epoch 49/100\n",
      "232/232 [==============================] - 0s 1ms/step - loss: 0.2705\n",
      "Epoch 50/100\n",
      "232/232 [==============================] - 0s 1ms/step - loss: 0.2696\n",
      "Epoch 51/100\n",
      "232/232 [==============================] - 0s 1ms/step - loss: 0.2669\n",
      "Epoch 52/100\n",
      "232/232 [==============================] - 0s 1ms/step - loss: 0.2648\n",
      "Epoch 53/100\n",
      "232/232 [==============================] - 0s 1ms/step - loss: 0.2634\n",
      "Epoch 54/100\n",
      "232/232 [==============================] - 0s 1ms/step - loss: 0.2620\n",
      "Epoch 55/100\n",
      "232/232 [==============================] - 0s 1ms/step - loss: 0.2616\n",
      "Epoch 56/100\n",
      "232/232 [==============================] - 0s 1ms/step - loss: 0.2594\n",
      "Epoch 57/100\n",
      "232/232 [==============================] - 0s 1ms/step - loss: 0.2600\n",
      "Epoch 58/100\n",
      "232/232 [==============================] - 0s 1ms/step - loss: 0.2573\n",
      "Epoch 59/100\n",
      "232/232 [==============================] - 0s 1ms/step - loss: 0.2561\n",
      "Epoch 60/100\n",
      "232/232 [==============================] - 0s 1ms/step - loss: 0.2555\n",
      "Epoch 61/100\n",
      "232/232 [==============================] - 0s 1ms/step - loss: 0.2543\n",
      "Epoch 62/100\n",
      "232/232 [==============================] - 0s 1ms/step - loss: 0.2543\n",
      "Epoch 63/100\n",
      "232/232 [==============================] - 0s 1ms/step - loss: 0.2527\n",
      "Epoch 64/100\n",
      "232/232 [==============================] - 0s 1ms/step - loss: 0.2510\n",
      "Epoch 65/100\n",
      "232/232 [==============================] - 0s 1ms/step - loss: 0.2493\n",
      "Epoch 66/100\n",
      "232/232 [==============================] - 0s 1ms/step - loss: 0.2482\n",
      "Epoch 67/100\n",
      "232/232 [==============================] - 0s 1ms/step - loss: 0.2470\n",
      "Epoch 68/100\n",
      "232/232 [==============================] - 0s 1ms/step - loss: 0.2469\n",
      "Epoch 69/100\n",
      "232/232 [==============================] - 0s 1ms/step - loss: 0.2465\n",
      "Epoch 70/100\n",
      "232/232 [==============================] - 0s 1ms/step - loss: 0.2452\n",
      "Epoch 71/100\n",
      "232/232 [==============================] - 0s 1ms/step - loss: 0.2446\n",
      "Epoch 72/100\n",
      "232/232 [==============================] - 0s 1ms/step - loss: 0.2429\n",
      "Epoch 73/100\n",
      "232/232 [==============================] - 0s 1ms/step - loss: 0.2431\n",
      "Epoch 74/100\n",
      "232/232 [==============================] - 0s 1ms/step - loss: 0.2419\n",
      "Epoch 75/100\n",
      "232/232 [==============================] - 0s 1ms/step - loss: 0.2411\n",
      "Epoch 76/100\n",
      "232/232 [==============================] - 0s 1ms/step - loss: 0.2398\n",
      "Epoch 77/100\n",
      "232/232 [==============================] - 0s 1ms/step - loss: 0.2406\n",
      "Epoch 78/100\n",
      "232/232 [==============================] - 0s 1ms/step - loss: 0.2388\n",
      "Epoch 79/100\n",
      "232/232 [==============================] - 0s 1ms/step - loss: 0.2379\n",
      "Epoch 80/100\n",
      "232/232 [==============================] - 0s 1ms/step - loss: 0.2379\n",
      "Epoch 81/100\n",
      "232/232 [==============================] - 0s 1ms/step - loss: 0.2351\n",
      "Epoch 82/100\n",
      "232/232 [==============================] - 0s 1ms/step - loss: 0.2357\n",
      "Epoch 83/100\n",
      "232/232 [==============================] - 0s 2ms/step - loss: 0.2345\n",
      "Epoch 84/100\n",
      "232/232 [==============================] - 0s 1ms/step - loss: 0.2342\n",
      "Epoch 85/100\n",
      "232/232 [==============================] - 0s 1ms/step - loss: 0.2338\n",
      "Epoch 86/100\n",
      "232/232 [==============================] - 0s 1ms/step - loss: 0.2326\n",
      "Epoch 87/100\n",
      "232/232 [==============================] - 0s 1ms/step - loss: 0.2333\n",
      "Epoch 88/100\n",
      "232/232 [==============================] - 0s 1ms/step - loss: 0.2316\n",
      "Epoch 89/100\n",
      "232/232 [==============================] - 0s 1ms/step - loss: 0.2332\n",
      "Epoch 90/100\n",
      "232/232 [==============================] - 0s 1ms/step - loss: 0.2313\n",
      "Epoch 91/100\n",
      "232/232 [==============================] - 0s 1ms/step - loss: 0.2302\n",
      "Epoch 92/100\n",
      "232/232 [==============================] - 0s 1ms/step - loss: 0.2290\n",
      "Epoch 93/100\n",
      "232/232 [==============================] - 0s 1ms/step - loss: 0.2285\n",
      "Epoch 94/100\n",
      "232/232 [==============================] - 0s 1ms/step - loss: 0.2285\n",
      "Epoch 95/100\n",
      "232/232 [==============================] - 0s 1ms/step - loss: 0.2278\n",
      "Epoch 96/100\n",
      "232/232 [==============================] - 0s 1ms/step - loss: 0.2263\n",
      "Epoch 97/100\n",
      "232/232 [==============================] - 0s 1ms/step - loss: 0.2260\n",
      "Epoch 98/100\n",
      "232/232 [==============================] - 0s 1ms/step - loss: 0.2253\n",
      "Epoch 99/100\n",
      "232/232 [==============================] - 0s 1ms/step - loss: 0.2249\n",
      "Epoch 100/100\n",
      "232/232 [==============================] - 0s 1ms/step - loss: 0.2253\n"
     ]
    }
   ],
   "source": [
    "#神经网络模型\n",
    "import pandas as pd\n",
    "from random import shuffle\n",
    "\n",
    "datafile = r'D:\\Books\\Python\\Python数据分析与挖掘实战\\chapter6\\chapter6\\demo\\data\\model.xls'\n",
    "data = pd.read_excel(datafile)\n",
    "data = data.as_matrix() #将表格数据转换为矩阵\n",
    "shuffle(data) #随机打乱数据\n",
    "p = 0.8\n",
    "train = data[:int(len(data)*p),:] #前80%为训练集\n",
    "test = data[int(len(data)*p):,:] #后20%为测试集\n",
    "\n",
    "from keras.models import Sequential #导入神经网络初始化函数\n",
    "from keras.layers.core import Dense,Activation #导入神经网络层函数、激活函数\n",
    "netfile = 'C:/Users/lichangcheng/Desktop/net.model' #模型存储路径\n",
    "net = Sequential()\n",
    "net.add(Dense(input_dim=3,units=10)) #添加输入从3节点到隐藏层10节点\n",
    "net.add(Activation('relu')) #隐藏层使用tule激活函数\n",
    "net.add(Dense(input_dim=10,units=1)) #添加隐藏层10节点到输出层1节点\n",
    "net.add(Activation('sigmoid')) #输出层使用sigmoid激活函数\n",
    "net.compile(loss='binary_crossentropy',optimizer='adam') #编译模型\n",
    "net.fit(train[:,:3],train[:,3],epochs=100,batch_size=1) #训练模型，循环100次\n",
    "net.save_weights(netfile) #保存模型"
   ]
  },
  {
   "cell_type": "code",
   "execution_count": 3,
   "metadata": {
    "collapsed": false
   },
   "outputs": [
    {
     "data": {
      "image/png": "[encoded data removed]",
      "text/plain": [
       "<matplotlib.figure.Figure at 0x2a450918278>"
      ]
     },
     "metadata": {},
     "output_type": "display_data"
    }
   ],
   "source": [
    "#绘制混淆矩阵\n",
    "from sklearn.metrics import confusion_matrix\n",
    "predict_result = net.predict_classes(train[:,:3]).reshape(len(train))\n",
    "cm = confusion_matrix(train[:,3],predict_result) #混淆矩阵\n",
    "\n",
    "import matplotlib.pyplot as plt\n",
    "%matplotlib inline\n",
    "plt.matshow(cm,cmap=plt.cm.Greens)\n",
    "plt.colorbar()\n",
    "for i in range(len(cm)):\n",
    "    for j in range(len(cm)):\n",
    "        plt.annotate(cm[i,j],xy=(i,j),horizontalalignment='center',verticalalignment='center')\n",
    "plt.ylabel('True label')\n",
    "plt.xlabel('Predicted label')\n",
    "plt.show()"
   ]
  },
  {
   "cell_type": "code",
   "execution_count": 9,
   "metadata": {
    "collapsed": false
   },
   "outputs": [
    {
     "name": "stdout",
     "output_type": "stream",
     "text": [
      "准确率：0.9353448275862069\n"
     ]
    }
   ],
   "source": [
    "#LM神经网络模型准确率\n",
    "accuracyrate = str((162+55)/(162+55+8+7))\n",
    "print('准确率：'+accuracyrate)"
   ]
  },
  {
   "cell_type": "code",
   "execution_count": 5,
   "metadata": {
    "collapsed": false
   },
   "outputs": [
    {
     "data": {
      "image/png": "[encoded data removed]",
      "text/plain": [
       "<matplotlib.figure.Figure at 0x2a45084b898>"
      ]
     },
     "metadata": {},
     "output_type": "display_data"
    }
   ],
   "source": [
    "#绘制ROC曲线\n",
    "from sklearn.metrics import roc_curve\n",
    "predict_result = net.predict(test[:,:3]).reshape(len(test))\n",
    "fpr,tpr,thresholds = roc_curve(test[:,3],predict_result,pos_label=1)\n",
    "plt.plot(fpr,tpr,linewidth=2,label='ROC of LM')\n",
    "plt.xlabel('False Positive Rate') #坐标轴标签\n",
    "plt.ylabel('True Positive Rate')\n",
    "plt.xlim(0,1.05) #边界范围\n",
    "plt.ylim(0,1.05)\n",
    "plt.legend(loc=4) #图例\n",
    "plt.show()"
   ]
  },
  {
   "cell_type": "code",
   "execution_count": 6,
   "metadata": {
    "collapsed": false
   },
   "outputs": [
    {
     "data": {
      "image/png": "[encoded data removed]",
      "text/plain": [
       "<matplotlib.figure.Figure at 0x2a450f0d048>"
      ]
     },
     "metadata": {},
     "output_type": "display_data"
    }
   ],
   "source": [
    "#CART决策树模型\n",
    "import pandas as pd\n",
    "from random import shuffle\n",
    "from sklearn.tree import DecisionTreeClassifier as DTC\n",
    "from sklearn.metrics import confusion_matrix,roc_curve\n",
    "\n",
    "datafile = r'D:\\Books\\Python\\Python数据分析与挖掘实战\\chapter6\\chapter6\\demo\\data\\model.xls'\n",
    "data = pd.read_excel(datafile)\n",
    "data = data.as_matrix() #将表格数据转换为矩阵\n",
    "shuffle(data) #随机打乱数据\n",
    "p = 0.8\n",
    "train = data[:int(len(data)*p),:] #前80%为训练集\n",
    "test = data[int(len(data)*p):,:] #后20%为测试集\n",
    "\n",
    "tree = DTC()\n",
    "tree.fit(train[:,:3],train[:,3]) #训练模型\n",
    "\n",
    "#混淆矩阵图\n",
    "cm = confusion_matrix(train[:,3],tree.predict(train[:,:3])) #混淆矩阵\n",
    "plt.matshow(cm,cmap=plt.cm.Blues)\n",
    "plt.colorbar()\n",
    "for i in range(len(cm)):\n",
    "    for j in range(len(cm)):\n",
    "        plt.annotate(cm[i,j],xy=(i,j),horizontalalignment='center',verticalalignment='center')\n",
    "plt.ylabel('True label')\n",
    "plt.xlabel('Predicted label')\n",
    "plt.show()"
   ]
  },
  {
   "cell_type": "code",
   "execution_count": 10,
   "metadata": {
    "collapsed": false
   },
   "outputs": [
    {
     "name": "stdout",
     "output_type": "stream",
     "text": [
      "准确率：0.9482758620689655\n"
     ]
    }
   ],
   "source": [
    "#CART决策数模型准确率\n",
    "accuracyrate = str((154+66)/(154+66+5+7))\n",
    "print('准确率：'+accuracyrate)"
   ]
  },
  {
   "cell_type": "code",
   "execution_count": 8,
   "metadata": {
    "collapsed": false
   },
   "outputs": [
    {
     "data": {
      "image/png": "[encoded data removed]",
      "text/plain": [
       "<matplotlib.figure.Figure at 0x2a450f4d390>"
      ]
     },
     "metadata": {},
     "output_type": "display_data"
    }
   ],
   "source": [
    "#绘制决策树模型ROC曲线\n",
    "fpr,tpr,thresholds = roc_curve(test[:,3],tree.predict_proba(test[:,:3])[:,1],pos_label=1)\n",
    "plt.plot(fpr,tpr,linewidth=2,label='ROC of DEC',color='red')\n",
    "plt.xlabel('False Positive Rate')\n",
    "plt.ylabel('True Positive Rate')\n",
    "plt.xlim(0,1.05)\n",
    "plt.ylim(0,1.05)\n",
    "plt.legend(loc=4)\n",
    "plt.show()"
   ]
  },
  {
   "cell_type": "markdown",
   "metadata": {},
   "source": [
    "#### 效果对比\n",
    ">通过对比ROC曲线，CART决策树的ROC曲线更靠近单位正方形的左上角，曲线下的面积更大，说明在当前数据的前提下，CART决策树模型在窃电用户的识别上效果更佳。\n",
    "\n",
    ">说明：`神经网络模型在这里受限于计算机状态，训练模型时只循环了100次。`"
   ]
  }
 ],
 "metadata": {
  "anaconda-cloud": {},
  "kernelspec": {
   "display_name": "Python [default]",
   "language": "python",
   "name": "python3"
  },
  "language_info": {
   "codemirror_mode": {
    "name": "ipython",
    "version": 3
   },
   "file_extension": ".py",
   "mimetype": "text/x-python",
   "name": "python",
   "nbconvert_exporter": "python",
   "pygments_lexer": "ipython3",
   "version": "3.5.2"
  }
 },
 "nbformat": 4,
 "nbformat_minor": 1
}
