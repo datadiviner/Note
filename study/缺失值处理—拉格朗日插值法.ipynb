{
 "cells": [
  {
   "cell_type": "code",
   "execution_count": 1,
   "metadata": {
    "collapsed": false
   },
   "outputs": [
    {
     "name": "stdout",
     "output_type": "stream",
     "text": [
      "    235.8333  324.0343  478.3231\n",
      "0   236.2708  325.6379  515.4564\n",
      "1   238.0521  328.0897  517.0909\n",
      "2   235.9063       NaN  514.8900\n",
      "3   236.7604  268.8324       NaN\n",
      "4        NaN  404.0480  486.0912\n",
      "5   237.4167  391.2652  516.2330\n",
      "6   238.6563  380.8241       NaN\n",
      "7   237.6042  388.0230  435.3508\n",
      "8   238.0313  206.4349  487.6750\n",
      "9   235.0729       NaN       NaN\n",
      "10  235.5313  400.0787  660.2347\n",
      "11       NaN  411.2069  621.2346\n",
      "12  234.4688  395.2343  611.3408\n",
      "13  235.5000  344.8221  643.0863\n",
      "14  235.6354  385.6432  642.3482\n",
      "15  234.5521  401.6234       NaN\n",
      "16  236.0000  409.6489  602.9347\n",
      "17  235.2396  416.8795  589.3457\n",
      "18  235.4896       NaN  556.3452\n",
      "19  236.9688       NaN  538.3470\n"
     ]
    }
   ],
   "source": [
    "import pandas as pd\n",
    "from scipy.interpolate import lagrange\n",
    "\n",
    "inputfile = r'D:\\Books\\Python\\Python数据分析与挖掘实战\\chapter6\\chapter6\\demo\\data\\missing_data.xls'\n",
    "\n",
    "data = pd.read_excel(inputfile,headers=None)\n",
    "print(data)"
   ]
  },
  {
   "cell_type": "code",
   "execution_count": 4,
   "metadata": {
    "collapsed": false
   },
   "outputs": [
    {
     "name": "stdout",
     "output_type": "stream",
     "text": [
      "      235.8333    324.0343    478.3231\n",
      "0   236.270800  325.637900  515.456400\n",
      "1   238.052100  328.089700  517.090900\n",
      "2   235.906300  151.298452  514.890000\n",
      "3   236.760400  268.832400  486.475945\n",
      "4   236.629860  404.048000  486.091200\n",
      "5   237.416700  391.265200  516.233000\n",
      "6   238.656300  380.824100  490.886437\n",
      "7   237.604200  388.023000  435.350800\n",
      "8   238.031300  206.434900  487.675000\n",
      "9   235.072900  237.348072  608.755005\n",
      "10  235.531300  400.078700  660.234700\n",
      "11  235.314952  411.206900  621.234600\n",
      "12  234.468800  395.234300  611.340800\n",
      "13  235.500000  344.822100  643.086300\n",
      "14  235.635400  385.643200  642.348200\n",
      "15  234.552100  401.623400  618.197192\n",
      "16  236.000000  409.648900  602.934700\n",
      "17  235.239600  416.879500  589.345700\n",
      "18  235.489600  420.748600  556.345200\n",
      "19  236.968800  408.963200  538.347000\n"
     ]
    }
   ],
   "source": [
    "#自定义列向量插值函数\n",
    "#s为列向量，n为被插值的位置，k为取前后数据的个数，设置默认值为5\n",
    "def ployinterp_column(s,n,k=5):\n",
    "    y = s[list(range(n-k,n))+list(range(n+1,n+k+1))]\n",
    "    y = y[y.notnull()]\n",
    "    return lagrange(y.index,list(y))(n)\n",
    "for i in data.columns:  #数据列数\n",
    "    for j in range(len(data)):  #数据行数\n",
    "        if(data[i].isnull())[j]:  #判断第i列的数据是否有空值\n",
    "            data[i][j]=ployinterp_column(data[i],j)  #对空值区域进行插值\n",
    "print(data)"
   ]
  }
 ],
 "metadata": {
  "anaconda-cloud": {},
  "kernelspec": {
   "display_name": "Python [default]",
   "language": "python",
   "name": "python3"
  },
  "language_info": {
   "codemirror_mode": {
    "name": "ipython",
    "version": 3
   },
   "file_extension": ".py",
   "mimetype": "text/x-python",
   "name": "python",
   "nbconvert_exporter": "python",
   "pygments_lexer": "ipython3",
   "version": "3.5.2"
  }
 },
 "nbformat": 4,
 "nbformat_minor": 1
}
